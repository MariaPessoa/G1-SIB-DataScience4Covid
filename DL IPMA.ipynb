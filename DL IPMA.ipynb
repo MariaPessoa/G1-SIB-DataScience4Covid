{
 "cells": [
  {
   "cell_type": "markdown",
   "metadata": {},
   "source": [
    "## Meteorological data extraction using the IPMA API"
   ]
  },
  {
   "cell_type": "markdown",
   "metadata": {},
   "source": [
    "Data import"
   ]
  },
  {
   "cell_type": "code",
   "execution_count": 2,
   "metadata": {},
   "outputs": [],
   "source": [
    "import wget\n",
    "import pandas as pd\n",
    "import numpy as np\n",
    "ROOT_FOLDER = \"C:\\\\Users\\\\liamo\\\\Documents\\\\BIOINF\\\\SIB\\\\tp\\\\trab\\\\\"\n",
    "distritos_path = ROOT_FOLDER+\"distritos.csv\"\n",
    "concelhos_path = ROOT_FOLDER+\"concelhos.csv\"\n",
    "distritos = pd.read_csv(distritos_path,header=0)\n",
    "concelhos = pd.read_csv(concelhos_path,header=0)"
   ]
  },
  {
   "cell_type": "markdown",
   "metadata": {},
   "source": [
    "Formatting"
   ]
  },
  {
   "cell_type": "code",
   "execution_count": 3,
   "metadata": {},
   "outputs": [
    {
     "name": "stdout",
     "output_type": "stream",
     "text": [
      "   cod_distrito  cod_concelho         nome_concelho\n",
      "0             1             6      castelo-de-paiva\n",
      "1             1             7               espinho\n",
      "2             1             8             estarreja\n",
      "3             1             9  santa-maria-da-feira\n",
      "4             1            10                ilhavo \n",
      "    cod_distrito   nome_distrito\n",
      "0             1          aveiro\n",
      "1             2            beja\n",
      "2             3           braga\n",
      "3             4        braganca\n",
      "4             5  castelo-branco\n",
      "['aveiro' 'beja' 'braga' 'braganca' 'castelo-branco' 'coimbra' 'evora'\n",
      " 'faro' 'guarda' 'leiria' 'lisboa' 'portalegre' 'porto' 'santarem'\n",
      " 'setubal' 'viana-do-castelo' 'vila-real' 'viseu']\n"
     ]
    }
   ],
   "source": [
    "rep_dict = {\"ç\":\"c\",\"â\":\"a\",\"ã\":\"a\",\"á\":\"a\",\"à\":\"a\",\"é\":\"e\",\"ê\":\"e\",\"í\":\"i\",\"ó\":\"o\",\"ô\":\"o\",\"ú\":\"u\",\" \":\"-\"}\n",
    "#convert to ipma format\n",
    "distritos[\"nome_distrito\"] = distritos[\"nome_distrito\"].str.lower() \n",
    "distritos[\"nome_distrito\"].replace(rep_dict,regex=True,inplace=True)\n",
    "concelhos[\"nome_concelho\"] = concelhos[\"nome_concelho\"].str.lower()\n",
    "concelhos[\"nome_concelho\"].replace(rep_dict,regex=True,inplace=True)\n",
    "# distritos[\"nome_distrito\"].replace({r'[^\\x00-\\x7F]+':''}, regex=True, inplace=True) #wrong!!!\n",
    "# concelhos[\"nome_concelho\"].replace({r'[^\\x00-\\x7F]+':''}, regex=True, inplace=True)\n",
    "\n",
    "#filter districts\n",
    "distritos = distritos[distritos[\"cod_distrito\"] <= 18] \n",
    "concelhos = concelhos[concelhos[\"cod_distrito\"] <= 18]\n",
    "\n",
    "print(concelhos.head(),\"\\n\",distritos.head())\n",
    "print(distritos[\"nome_distrito\"].unique())"
   ]
  },
  {
   "cell_type": "code",
   "execution_count": 4,
   "metadata": {},
   "outputs": [
    {
     "data": {
      "text/html": [
       "<div>\n",
       "<style scoped>\n",
       "    .dataframe tbody tr th:only-of-type {\n",
       "        vertical-align: middle;\n",
       "    }\n",
       "\n",
       "    .dataframe tbody tr th {\n",
       "        vertical-align: top;\n",
       "    }\n",
       "\n",
       "    .dataframe thead th {\n",
       "        text-align: right;\n",
       "    }\n",
       "</style>\n",
       "<table border=\"1\" class=\"dataframe\">\n",
       "  <thead>\n",
       "    <tr style=\"text-align: right;\">\n",
       "      <th></th>\n",
       "      <th>index</th>\n",
       "      <th>cod_distrito</th>\n",
       "      <th>cod_concelho</th>\n",
       "      <th>nome_concelho</th>\n",
       "      <th>nome_distrito</th>\n",
       "      <th>cod_distconc</th>\n",
       "    </tr>\n",
       "  </thead>\n",
       "  <tbody>\n",
       "    <tr>\n",
       "      <th>0</th>\n",
       "      <td>14</td>\n",
       "      <td>01</td>\n",
       "      <td>01</td>\n",
       "      <td>agueda</td>\n",
       "      <td>aveiro</td>\n",
       "      <td>0101</td>\n",
       "    </tr>\n",
       "    <tr>\n",
       "      <th>1</th>\n",
       "      <td>15</td>\n",
       "      <td>01</td>\n",
       "      <td>02</td>\n",
       "      <td>albergaria-a-velha</td>\n",
       "      <td>aveiro</td>\n",
       "      <td>0102</td>\n",
       "    </tr>\n",
       "    <tr>\n",
       "      <th>2</th>\n",
       "      <td>16</td>\n",
       "      <td>01</td>\n",
       "      <td>03</td>\n",
       "      <td>anadia</td>\n",
       "      <td>aveiro</td>\n",
       "      <td>0103</td>\n",
       "    </tr>\n",
       "    <tr>\n",
       "      <th>3</th>\n",
       "      <td>17</td>\n",
       "      <td>01</td>\n",
       "      <td>04</td>\n",
       "      <td>arouca</td>\n",
       "      <td>aveiro</td>\n",
       "      <td>0104</td>\n",
       "    </tr>\n",
       "    <tr>\n",
       "      <th>4</th>\n",
       "      <td>18</td>\n",
       "      <td>01</td>\n",
       "      <td>05</td>\n",
       "      <td>aveiro</td>\n",
       "      <td>aveiro</td>\n",
       "      <td>0105</td>\n",
       "    </tr>\n",
       "  </tbody>\n",
       "</table>\n",
       "</div>"
      ],
      "text/plain": [
       "   index cod_distrito cod_concelho       nome_concelho nome_distrito  \\\n",
       "0     14           01           01              agueda        aveiro   \n",
       "1     15           01           02  albergaria-a-velha        aveiro   \n",
       "2     16           01           03              anadia        aveiro   \n",
       "3     17           01           04              arouca        aveiro   \n",
       "4     18           01           05              aveiro        aveiro   \n",
       "\n",
       "  cod_distconc  \n",
       "0         0101  \n",
       "1         0102  \n",
       "2         0103  \n",
       "3         0104  \n",
       "4         0105  "
      ]
     },
     "execution_count": 4,
     "metadata": {},
     "output_type": "execute_result"
    }
   ],
   "source": [
    "cod_dist2 = {}\n",
    "for row in range(distritos.shape[0]): cod_dist2[distritos.iloc[row,0]] = distritos.iloc[row,1]\n",
    "cod_dist3 = [cod_dist2[x] for x in concelhos[\"cod_distrito\"]]\n",
    "#add column with correct format\n",
    "concelhos[\"nome_distrito\"] = np.array(cod_dist3)\n",
    "\n",
    "#covert ids to ipma format\n",
    "concelhos[\"cod_concelho\"] = np.array([\"0\"+str(x) if x < 10 else str(x) for x in concelhos[\"cod_concelho\"]])\n",
    "concelhos[\"cod_distrito\"] = np.array([\"0\"+str(x) if x < 10 else str(x) for x in concelhos[\"cod_distrito\"]])\n",
    "\n",
    "#add full id column\n",
    "concelhos[\"cod_distconc\"] = np.array([concelhos[\"cod_distrito\"].iloc[x]+concelhos[\"cod_concelho\"].iloc[x] for x in range(concelhos.shape[0])])\n",
    "concelhos = concelhos.sort_values(\"cod_distconc\",axis=0).reset_index()\n",
    "concelhos.head()"
   ]
  },
  {
   "cell_type": "markdown",
   "metadata": {},
   "source": [
    "Download"
   ]
  },
  {
   "cell_type": "code",
   "execution_count": 8,
   "metadata": {},
   "outputs": [
    {
     "name": "stdout",
     "output_type": "stream",
     "text": [
      "100% [................................................................................] 6590 / 6590"
     ]
    }
   ],
   "source": [
    "#download\n",
    "# from os import path\n",
    "variavel = {\"temperature-min\":\"mtnmn\",\"temperature-max\":\"mtxmx\",\"precipitation-total\":\"mrrto\"}\n",
    "base_url = \"https://api.ipma.pt/open-data/observation/climate/\"\n",
    "#https://api.ipma.pt/open-data/observation/climate/temperature-max/{distrito}/mtxmn-{DICO}-{concelho}.csv \n",
    "\n",
    "for v in variavel.keys():\n",
    "    for row in range(concelhos.shape[0]):  \n",
    "        url = base_url+v+\"/\"+concelhos[\"nome_distrito\"][row]+\"/\"+variavel[v]+\"-\"+concelhos[\"cod_distconc\"][\n",
    "            row]+\"-\"+concelhos[\"nome_concelho\"][row]+\".csv\"\n",
    "#         filename = ROOT_FOLDER+\"ipma\\\\\"+v+\"_\"+concelhos[\"nome_distrito\"][row]+\"_\"+concelhos[\n",
    "#                 \"nome_concelho\"][row]+\".csv\"\n",
    "        try:\n",
    "#             if not path.exists(filename):\n",
    "            wget.download(url, ROOT_FOLDER+\"ipma\\\\\"+v+\"_\"+concelhos[\"nome_distrito\"][row]+\"_\"+concelhos[\n",
    "                \"nome_concelho\"][row]+\".csv\")\n",
    "        except: pass\n"
   ]
  },
  {
   "cell_type": "markdown",
   "metadata": {},
   "source": [
    "File management"
   ]
  },
  {
   "cell_type": "code",
   "execution_count": 9,
   "metadata": {},
   "outputs": [],
   "source": [
    "import os\n",
    "import glob\n",
    "os.chdir(ROOT_FOLDER+\"ipma\")\n",
    "extension = 'csv'\n",
    "all_filenames = [i for i in glob.glob('*.{}'.format(extension))]\n",
    "\n",
    "#headers\n",
    "precip = []\n",
    "temp_min = []\n",
    "temp_max = []\n",
    "for i in glob.glob('*.{}'.format(extension)):\n",
    "    if \"precipitation\" in i: precip.extend([i.split(\"_\")[-1][:-4]]*6)\n",
    "    elif \"temperature-min\" in i: temp_min.extend([i.split(\"_\")[-1][:-4]]*6)\n",
    "    else: temp_max.extend([i.split(\"_\")[-1][:-4]]*6)        \n"
   ]
  },
  {
   "cell_type": "code",
   "execution_count": 10,
   "metadata": {},
   "outputs": [
    {
     "name": "stdout",
     "output_type": "stream",
     "text": [
      "(86, 1662) (86, 1662) (87, 1662)\n"
     ]
    }
   ],
   "source": [
    "# combine files per variable\n",
    "comb_precip = pd.concat([pd.read_csv(f) for f in all_filenames if \"precipitation\" in f],axis=1)\n",
    "comb_precip.columns = pd.MultiIndex.from_tuples(zip(precip, comb_precip.columns))\n",
    "\n",
    "comb_mintemp = pd.concat([pd.read_csv(f) for f in all_filenames if \"temperature-min\" in f],axis=1)\n",
    "comb_mintemp.columns = pd.MultiIndex.from_tuples(zip(temp_min, comb_mintemp.columns))\n",
    "\n",
    "comb_maxtemp = pd.concat([pd.read_csv(f) for f in all_filenames if \"temperature-max\" in f],axis=1)\n",
    "comb_maxtemp.columns = pd.MultiIndex.from_tuples(zip(temp_max, comb_maxtemp.columns))\n",
    "\n",
    "print(comb_precip.shape,comb_mintemp.shape,comb_maxtemp.shape)"
   ]
  },
  {
   "cell_type": "code",
   "execution_count": 11,
   "metadata": {},
   "outputs": [
    {
     "name": "stdout",
     "output_type": "stream",
     "text": [
      "86\n",
      "86\n",
      "87\n",
      "(85, 1662) (85, 1662) (85, 1662)\n"
     ]
    }
   ],
   "source": [
    "# comb_mintemp.loc[:,(slice(None),\"date\")]\n",
    "date_precip = comb_precip.xs('date', axis = 1, level = 1)\n",
    "date_mintemp = comb_mintemp.xs('date', axis = 1, level = 1)\n",
    "date_maxtemp = comb_maxtemp.xs('date', axis = 1, level = 1)\n",
    "\n",
    "#dates are consistent in each df\n",
    "print((date_precip.nunique(axis=1) == 1).sum()) \n",
    "print((date_mintemp.nunique(axis=1) == 1).sum())\n",
    "print((date_maxtemp.nunique(axis=1) == 1).sum())\n",
    "\n",
    "#common dates\n",
    "(date_precip.iloc[:,0].isin(date_mintemp.iloc[:,0]) & date_precip.iloc[:,0].isin(date_maxtemp.iloc[:,0])).sum()\n",
    "#date filter\n",
    "comb_precip = comb_precip.loc[date_precip.iloc[:,0].isin(date_mintemp.iloc[:,0]) & date_precip.iloc[:,0].isin(date_maxtemp.iloc[:,0]),:]\n",
    "comb_mintemp = comb_mintemp.loc[date_mintemp.iloc[:,0].isin(date_precip.iloc[:,0]) & date_mintemp.iloc[:,0].isin(date_maxtemp.iloc[:,0]),:]\n",
    "comb_maxtemp = comb_maxtemp.loc[date_maxtemp.iloc[:,0].isin(date_precip.iloc[:,0]) & date_maxtemp.iloc[:,0].isin(date_mintemp.iloc[:,0]),:]\n",
    "print(comb_precip.shape,comb_mintemp.shape,comb_maxtemp.shape)\n",
    "\n",
    "#filtrar linhas comuns com baixa variabilidade?"
   ]
  },
  {
   "cell_type": "code",
   "execution_count": 12,
   "metadata": {},
   "outputs": [
    {
     "name": "stdout",
     "output_type": "stream",
     "text": [
      "(85, 277) (85, 277) (85, 277)\n",
      "           Precipitation                                     \\\n",
      "                abrantes   agueda aguiar-da-beira alandroal   \n",
      "Date                                                          \n",
      "2020-09-04      0.000000  0.00000             0.0       0.0   \n",
      "2020-09-05      0.006481  0.00371             0.0       0.0   \n",
      "2020-09-06      0.000110  0.00000             0.0       0.0   \n",
      "2020-09-07      0.000000  0.00000             0.0       0.0   \n",
      "2020-09-08      0.000000  0.00000             0.0       0.0   \n",
      "\n",
      "                                                                            \\\n",
      "           albergaria-a-velha albufeira alcacer-do-sal  alcanena  alcobaca   \n",
      "Date                                                                         \n",
      "2020-09-04           0.000000  0.000000       0.000000  0.000000  0.000000   \n",
      "2020-09-05           0.005914  0.000000       0.000000  0.002494  0.001766   \n",
      "2020-09-06           0.000000  0.000000       0.000000  0.006322  0.035467   \n",
      "2020-09-07           0.000000  0.000000       0.000000  0.000000  0.000000   \n",
      "2020-09-08           0.000000  0.002878       0.001303  0.000016  0.000335   \n",
      "\n",
      "                      ...    MaxTemp                             \\\n",
      "           alcochete  ...  vila-real vila-real-de-santo-antonio   \n",
      "Date                  ...                                         \n",
      "2020-09-04       0.0  ...  33.631500                  30.820285   \n",
      "2020-09-05       0.0  ...  33.749519                  29.826791   \n",
      "2020-09-06       0.0  ...  32.870887                  29.334731   \n",
      "2020-09-07       0.0  ...  28.320831                  28.977731   \n",
      "2020-09-08       0.0  ...  27.560029                  29.430564   \n",
      "\n",
      "                                                                             \\\n",
      "           vila-velha-de-rodao vila-verde vila-vicosa    vimioso    vinhais   \n",
      "Date                                                                          \n",
      "2020-09-04           33.792378  31.963823   36.734161  33.914852  32.603620   \n",
      "2020-09-05           34.099962  32.952872   36.920079  33.682099  32.704702   \n",
      "2020-09-06           37.482781  33.924404   37.806928  31.254442  30.772293   \n",
      "2020-09-07           34.519308  31.727257   36.930923  25.555932  25.168085   \n",
      "2020-09-08           31.125547  32.679722   33.063017  26.967250  25.752788   \n",
      "\n",
      "                                             \n",
      "                viseu     vizela    vouzela  \n",
      "Date                                         \n",
      "2020-09-04  35.415464  30.411761  33.882214  \n",
      "2020-09-05  35.906210  32.479597  33.988207  \n",
      "2020-09-06  33.020560  33.442138  33.255444  \n",
      "2020-09-07  27.579321  30.151116  28.931194  \n",
      "2020-09-08  27.808009  30.733195  29.223827  \n",
      "\n",
      "[5 rows x 831 columns]\n"
     ]
    }
   ],
   "source": [
    "dates_final = comb_precip.loc[:,(\"albergaria-a-velha\",\"date\")].rename(\"Date\",axis=\"columns\",inplace=True)\n",
    "\n",
    "comb_precip2 = comb_precip.drop([\"date\",'minimum','maximum','range','std'],level=1,axis=1)\n",
    "comb_mintemp2 = comb_mintemp.drop([\"date\",'minimum','maximum','range','std'],level=1,axis=1)\n",
    "comb_maxtemp2 = comb_maxtemp.drop([\"date\",'minimum','maximum','range','std'],level=1,axis=1)\n",
    "\n",
    "comb_precip2 = comb_precip2.stack().reset_index().iloc[:,2:]\n",
    "comb_mintemp2 = comb_mintemp2.stack().reset_index().iloc[:,2:]\n",
    "comb_maxtemp2 = comb_maxtemp2.stack().reset_index().iloc[:,2:]\n",
    "print(comb_precip2.shape,comb_mintemp2.shape,comb_maxtemp2.shape)\n",
    "\n",
    "#final df\n",
    "d = {'Precipitation' : comb_precip2, 'MinTemp' : comb_mintemp2,\"MaxTemp\":comb_maxtemp2}\n",
    "ipma = pd.concat(d.values(), axis=1, keys=d.keys())\n",
    "ipma.index = dates_final\n",
    "print(ipma.head())\n",
    "\n",
    "#export final file to csv\n",
    "ipma.to_csv(ROOT_FOLDER+\"ipma_clean.csv\", index=True, encoding='utf-8-sig')"
   ]
  },
  {
   "cell_type": "markdown",
   "metadata": {},
   "source": [
    "### References\n",
    "[1] Meteorological data: http://api.ipma.pt/#services<br>\n",
    "[2] Area code data (concelhos/distritos): https://github.com/centraldedados/codigos_postais<br>"
   ]
  }
 ],
 "metadata": {
  "kernelspec": {
   "display_name": "Python 3",
   "language": "python",
   "name": "python3"
  },
  "language_info": {
   "codemirror_mode": {
    "name": "ipython",
    "version": 3
   },
   "file_extension": ".py",
   "mimetype": "text/x-python",
   "name": "python",
   "nbconvert_exporter": "python",
   "pygments_lexer": "ipython3",
   "version": "3.7.8"
  }
 },
 "nbformat": 4,
 "nbformat_minor": 4
}
