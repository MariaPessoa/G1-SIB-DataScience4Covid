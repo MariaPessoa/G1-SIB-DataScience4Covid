{
 "cells": [
  {
   "cell_type": "markdown",
   "metadata": {},
   "source": [
    "Import and preprocessing"
   ]
  },
  {
   "cell_type": "code",
   "execution_count": 69,
   "metadata": {},
   "outputs": [],
   "source": [
    "import pandas as pd\n",
    "import numpy as np\n",
    "import os\n",
    "\n",
    "#Data Source: PORDATA\n",
    "ROOT_FOLDER = \"C:\\\\Users\\\\liamo\\\\Documents\\\\BIOINF\\\\SIB\\\\tp\\\\trab\\\\\"\n",
    "MORE_DATA_OUT_PATH = os.path.join(ROOT_FOLDER,\"more_pordata.csv\")\n",
    "GETARIO_GENDER_PATH = os.path.join(ROOT_FOLDER,\"getario_gender_sim.csv\")\n",
    "\n",
    "ENSINO_PATH =  os.path.join(ROOT_FOLDER,\"estab_ensino2019.xlsx\")\n",
    "GANHO_MENSAL_PATH =  os.path.join(ROOT_FOLDER,\"ganho_meansal_genero2018.xlsx\")\n",
    "MEDFARM_PATH =  os.path.join(ROOT_FOLDER,\"habitantes_por_medico_farmac2019.xlsx\")\n",
    "HOSPEDES_PATH =  os.path.join(ROOT_FOLDER,\"hospedes_alojamento2019.xlsx\")\n",
    "HOSPITAIS_PATH =  os.path.join(ROOT_FOLDER,\"hospitais2018.xlsx\")\n",
    "PODER_COMPRA_PATH =  os.path.join(ROOT_FOLDER,\"poder_compra_percapita2017.xlsx\")\n",
    "TAXA_ABSTENCAO_PATH = os.path.join(ROOT_FOLDER,\"taxa_abstencao_assrep2019.xlsx\")\n",
    "UNI_PATH = os.path.join(ROOT_FOLDER,\"estab_ensino_uni2020.xlsx\")\n",
    "GETARIO_FEM_PATH = os.path.join(ROOT_FOLDER,\"getario_fem2011.xlsx\")\n",
    "GETARIO_MASC_PATH = os.path.join(ROOT_FOLDER,\"getario_masc2011.xlsx\")\n",
    "#Data Source: PT covid19 github (also originally from PORDATA)\n",
    "POPGETARIO_CONC_PATH = os.path.join(ROOT_FOLDER,\"popres31dez19_porgetario.xlsx\")\n",
    "\n",
    "ensino = pd.read_excel(ENSINO_PATH,usecols=list(range(7)),nrows=353,skiprows=list(range(10)),header=0) \n",
    "uni = pd.read_excel(UNI_PATH,usecols=list(range(5)),nrows=353,skiprows=list(range(10)),header=0) \n",
    "ganhomes = pd.read_excel(GANHO_MENSAL_PATH,usecols=list(range(5)),nrows=353,skiprows=list(range(10)),header=0) \n",
    "medfarm = pd.read_excel(MEDFARM_PATH,usecols=list(range(4)),nrows=353,skiprows=list(range(10)),header=0) \n",
    "hospedes = pd.read_excel(HOSPEDES_PATH,usecols=list(range(4)),nrows=353,skiprows=list(range(10)),header=0) \n",
    "hospitais = pd.read_excel(HOSPITAIS_PATH,usecols=list(range(5)),nrows=353,skiprows=list(range(10)),header=0) \n",
    "pcompra = pd.read_excel(PODER_COMPRA_PATH,usecols=list(range(3)),nrows=353,skiprows=list(range(10)),header=0) \n",
    "abstencao = pd.read_excel(TAXA_ABSTENCAO_PATH,usecols=list(range(3)),nrows=353,skiprows=list(range(10)),header=0) \n",
    "getario = pd.read_excel(POPGETARIO_CONC_PATH,usecols=list(range(21)),nrows=353,skiprows=list(range(10)),header=0) \n",
    "gefem = pd.read_excel(GETARIO_FEM_PATH,usecols=list(range(19)),nrows=353,skiprows=list(range(10)),header=0)\n",
    "gemasc = pd.read_excel(GETARIO_MASC_PATH,usecols=list(range(19)),nrows=353,skiprows=list(range(10)),header=0)"
   ]
  },
  {
   "cell_type": "code",
   "execution_count": 70,
   "metadata": {},
   "outputs": [],
   "source": [
    "rep_dict = {\"Ç\":\"C\",\"Â\":\"A\",\"Ã\":\"A\",\"Á\":\"A\",\"À\":\"A\",\"É\":\"E\",\"Ê\":\"E\",\"Í\":\"I\",\"Ó\":\"O\",\"Ô\":\"O\",\"Ú\":\"U\",\" \":\"-\"}\n",
    "# fix header and upper case values\n",
    "def fixdf(df):\n",
    "    df.rename(columns = {'Unnamed: 0':'Âmbito Geográfico','Unnamed: 1':'Concelho'}, inplace = True)\n",
    "    df['Concelho'] = df['Concelho'].str.upper()\n",
    "    df['Concelho'].replace(rep_dict,regex=True,inplace=True)\n",
    "    df = df.drop([0],axis=0)\n",
    "    df = df[df[\"Âmbito Geográfico\"]==\"Município\"].drop([\"Âmbito Geográfico\"],axis=1)\n",
    "    return df\n",
    "#fix age groups\n",
    "def fixages(df):\n",
    "    df[\"0_9\"] = df['0-04']+df[\"05-09\"]\n",
    "    df[\"10_19\"] = df['10-14']+df['15-19']\n",
    "    df[\"20_29\"] = df['20-24']+df['25-29']\n",
    "    df[\"30_39\"] = df['30-34']+df['35-39']\n",
    "    df[\"40_49\"] = df['40-44']+df['45-49']\n",
    "    df[\"50_59\"] = df['50-54']+df['55-59']\n",
    "    df[\"60_69\"] = df['60-64']+df['65-69']\n",
    "    if \"75 ou mais\" not in df.columns:\n",
    "        df[\"70_79\"] = df['70-74']+df['75-79']\n",
    "        df[\"80_plus\"] = df['80-84']+df['85 ou mais']\n",
    "        df = df.drop(['0-04', '05-09', '10-14', '15-19', '20-24','25-29', '30-34', '35-39', '40-44', '45-49', '50-54',\n",
    "                                  '55-59', '60-64','65-69', '70-74', '75-79', '80-84', '85 ou mais'],axis=1)\n",
    "    else:\n",
    "        df[\"70_plus\"] = df['70-74']+df['75 ou mais']\n",
    "        df = df.drop(['0-04', '05-09', '10-14', '15-19', '20-24','25-29', '30-34', '35-39', '40-44', '45-49', '50-54',\n",
    "                          '55-59', '60-64','65-69', '70-74', '75 ou mais'],axis=1)\n",
    "    return df\n",
    "\n",
    "conc_get = fixages(fixdf(getario))\n",
    "gefem = fixages(fixdf(gefem))\n",
    "gemasc = fixages(fixdf(gemasc))\n",
    "\n",
    "ensino = fixdf(ensino)\n",
    "uni = fixdf(uni)\n",
    "ganhomes = fixdf(ganhomes)\n",
    "medfarm = fixdf(medfarm)\n",
    "medfarm.rename(columns = {'Unnamed: 2':'Medico','Unnamed: 3':'Farmaceutico'}, inplace = True) \n",
    "hospedes = fixdf(hospedes)\n",
    "hospitais = fixdf(hospitais)\n",
    "pcompra = fixdf(pcompra)\n",
    "pcompra.rename(columns = {'Unnamed: 2':'PoderCompra'}, inplace = True)\n",
    "abstencao = fixdf(abstencao)\n",
    "abstencao.rename(columns = {'Unnamed: 2':'Abstencao'}, inplace = True)"
   ]
  },
  {
   "cell_type": "code",
   "execution_count": 56,
   "metadata": {},
   "outputs": [],
   "source": [
    "#normalize by population, per 100k people???\n",
    "# hospitais.iloc[:,1:] = 10*1000*hospitais.iloc[:,1:].div(conc_get[\"Total\"],axis=0)\n",
    "# ensino.iloc[:,1:] = 10*1000*ensino.iloc[:,1:].div(conc_get[\"Total\"],axis=0) \n",
    "# uni.iloc[:,1:] = 10*1000*uni.iloc[:,1:].div(conc_get[\"Total\"],axis=0) \n",
    "# hospedes.iloc[:,1:] = 10*1000*hospedes.iloc[:,1:].div(conc_get[\"Total\"],axis=0)\n",
    "\n",
    "# hospitais.iloc[:,1:] = hospitais.iloc[:,1:].round(1)\n",
    "# ensino.iloc[:,1:] = ensino.iloc[:,1:].round(1)\n",
    "# uni.iloc[:,1:] = uni.iloc[:,1:].round(1)\n",
    "# hospedes.iloc[:,1:] = hospedes.iloc[:,1:].round(1)"
   ]
  },
  {
   "cell_type": "code",
   "execution_count": 71,
   "metadata": {},
   "outputs": [],
   "source": [
    "age = pd.DataFrame()\n",
    "age[\"2019\"] = conc_get[\"Total\"]\n",
    "age[\"2011\"] = gefem[\"Total\"]+gemasc[\"Total\"]\n",
    "age[\"FIX\"] = age[\"2019\"]/age[\"2011\"] #variation since 2011\n",
    "\n",
    "def updateages(df):\n",
    "    for col in df.columns[2:]: \n",
    "        df[col] = (df[col]*age[\"FIX\"]).round(0)\n",
    "    return df.drop([\"Total\"],axis=1)\n",
    "         \n",
    "gefem2 = updateages(gefem)\n",
    "gemasc2 = updateages(gemasc)\n",
    "ge_gender = pd.concat((gefem2.iloc[:,1:],gemasc2.iloc[:,1:]),axis=1,keys=[\"F\",\"M\"])\n",
    "ge_gender.index = gefem2[\"Concelho\"]\n",
    "print(ge_gender.head())\n",
    "ge_gender.to_csv(GETARIO_GENDER_PATH)"
   ]
  },
  {
   "cell_type": "code",
   "execution_count": 11,
   "metadata": {},
   "outputs": [],
   "source": [
    "# print(uni.head())\n",
    "# print(ensino.head())\n",
    "# print(ganhomes.head())\n",
    "# print(medfarm.head())\n",
    "# print(hospedes.head())\n",
    "# print(hospitais.head())\n",
    "# print(pcompra.head())\n",
    "# print(abstencao.head())\n",
    "# print(conc_get.head())"
   ]
  },
  {
   "cell_type": "markdown",
   "metadata": {},
   "source": [
    "Concatenate and export data"
   ]
  },
  {
   "cell_type": "code",
   "execution_count": 12,
   "metadata": {},
   "outputs": [
    {
     "name": "stdout",
     "output_type": "stream",
     "text": [
      "                  Hospitais                 MedFarm               \\\n",
      "                      Total Oficial Privado  Medico Farmaceutico   \n",
      "Concelho                                                           \n",
      "ARCOS-DE-VALDEVEZ         0       0       0   476.1        837.9   \n",
      "CAMINHA                   0       0       0   193.6       1058.3   \n",
      "MELGACO                   0       0       0   386.6        738.0   \n",
      "MONCAO                    0       0       0   279.5        851.7   \n",
      "PAREDES-DE-COURA          0       0       0   657.5       1424.6   \n",
      "\n",
      "                                Ensino                           \\\n",
      "                  Educação Pré-Escolar Ensino Básico - 1º Ciclo   \n",
      "Concelho                                                          \n",
      "ARCOS-DE-VALDEVEZ                   10                        4   \n",
      "CAMINHA                             11                       10   \n",
      "MELGACO                              3                        2   \n",
      "MONCAO                               6                        5   \n",
      "PAREDES-DE-COURA                     5                        1   \n",
      "\n",
      "                                                                     \\\n",
      "                  Ensino Básico - 2º Ciclo Ensino Básico - 3º Ciclo   \n",
      "Concelho                                                              \n",
      "ARCOS-DE-VALDEVEZ                        3                        3   \n",
      "CAMINHA                                  2                        2   \n",
      "MELGACO                                  1                        1   \n",
      "MONCAO                                   2                        4   \n",
      "PAREDES-DE-COURA                         1                        1   \n",
      "\n",
      "                                    Universidades                 Abstencao  \\\n",
      "                  Ensino Secundário         Total Público Privado Abstencao   \n",
      "Concelho                                                                      \n",
      "ARCOS-DE-VALDEVEZ                 2             0       0       0      56.3   \n",
      "CAMINHA                           4             0       0       0      46.7   \n",
      "MELGACO                           2             1       1       0      66.2   \n",
      "MONCAO                            2             0       0       0      57.1   \n",
      "PAREDES-DE-COURA                  2             0       0       0      51.4   \n",
      "\n",
      "                  GanhoMes                    PoderCompra Hospedes         \n",
      "                     Total Masculino Feminino PoderCompra    Total Hotéis  \n",
      "Concelho                                                                   \n",
      "ARCOS-DE-VALDEVEZ    882.1     960.4    817.2        67.8    42764  31291  \n",
      "CAMINHA              880.9     942.7    822.3        78.9    64595  39579  \n",
      "MELGACO              858.1     940.7    799.3        62.0    28077  24451  \n",
      "MONCAO               860.2     901.4    818.4        70.2    21230  16258  \n",
      "PAREDES-DE-COURA     891.1     954.3    838.4        66.4     4953      0  \n"
     ]
    }
   ],
   "source": [
    "more_data = pd.concat((hospitais.iloc[:,1:],medfarm.iloc[:,1:],ensino.iloc[:,1:],uni.iloc[:,1:],abstencao.iloc[:,1:],ganhomes.iloc[:,1:],\n",
    "                      pcompra.iloc[:,1:],hospedes.iloc[:,1:]),axis=1,keys=[\"Hospitais\",\"MedFarm\",\"Ensino\",\"Universidades\",\n",
    "                                                                           \"Abstencao\",\"GanhoMes\",\"PoderCompra\",\"Hospedes\"])\n",
    "more_data.index = hospitais[\"Concelho\"]\n",
    "print(more_data.head())\n",
    "more_data.to_csv(MORE_DATA_OUT_PATH)"
   ]
  }
 ],
 "metadata": {
  "kernelspec": {
   "display_name": "Python 3",
   "language": "python",
   "name": "python3"
  },
  "language_info": {
   "codemirror_mode": {
    "name": "ipython",
    "version": 3
   },
   "file_extension": ".py",
   "mimetype": "text/x-python",
   "name": "python",
   "nbconvert_exporter": "python",
   "pygments_lexer": "ipython3",
   "version": "3.7.8"
  }
 },
 "nbformat": 4,
 "nbformat_minor": 4
}
